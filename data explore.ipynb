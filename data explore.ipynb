{
 "cells": [
  {
   "cell_type": "code",
   "execution_count": 1,
   "metadata": {},
   "outputs": [],
   "source": [
    "import pandas as pd\n",
    "import seaborn as sns\n",
    "import matplotlib.pyplot as plt\n",
    "from matplotlib import animation\n",
    "from os import path"
   ]
  },
  {
   "cell_type": "code",
   "execution_count": 2,
   "metadata": {},
   "outputs": [],
   "source": [
    "base_dir = './data'\n",
    "price_dir = path.join(base_dir, 'daily_price_old')"
   ]
  },
  {
   "cell_type": "code",
   "execution_count": 3,
   "metadata": {},
   "outputs": [],
   "source": [
    "df = pd.read_csv(path.join(price_dir, \"AAPL_AV_daily_price.csv\"))\n",
    "df2 = pd.read_csv(path.join(price_dir, \"MSFT_US_daily_price.csv\"))"
   ]
  },
  {
   "cell_type": "code",
   "execution_count": 4,
   "metadata": {},
   "outputs": [
    {
     "data": {
      "text/html": [
       "<div>\n",
       "<style scoped>\n",
       "    .dataframe tbody tr th:only-of-type {\n",
       "        vertical-align: middle;\n",
       "    }\n",
       "\n",
       "    .dataframe tbody tr th {\n",
       "        vertical-align: top;\n",
       "    }\n",
       "\n",
       "    .dataframe thead th {\n",
       "        text-align: right;\n",
       "    }\n",
       "</style>\n",
       "<table border=\"1\" class=\"dataframe\">\n",
       "  <thead>\n",
       "    <tr style=\"text-align: right;\">\n",
       "      <th></th>\n",
       "      <th>date</th>\n",
       "      <th>intraperiod</th>\n",
       "      <th>frequency</th>\n",
       "      <th>open</th>\n",
       "      <th>high</th>\n",
       "      <th>low</th>\n",
       "      <th>close</th>\n",
       "      <th>volume</th>\n",
       "      <th>adj_open</th>\n",
       "      <th>adj_high</th>\n",
       "      <th>adj_low</th>\n",
       "      <th>adj_close</th>\n",
       "      <th>adj_volume</th>\n",
       "    </tr>\n",
       "  </thead>\n",
       "  <tbody>\n",
       "    <tr>\n",
       "      <th>0</th>\n",
       "      <td>2017-12-29</td>\n",
       "      <td>False</td>\n",
       "      <td>daily</td>\n",
       "      <td>143.00</td>\n",
       "      <td>143.00</td>\n",
       "      <td>142.70</td>\n",
       "      <td>142.70</td>\n",
       "      <td>290.0</td>\n",
       "      <td>143.00</td>\n",
       "      <td>143.00</td>\n",
       "      <td>142.70</td>\n",
       "      <td>142.70</td>\n",
       "      <td>290.0</td>\n",
       "    </tr>\n",
       "    <tr>\n",
       "      <th>1</th>\n",
       "      <td>2017-12-28</td>\n",
       "      <td>False</td>\n",
       "      <td>daily</td>\n",
       "      <td>143.00</td>\n",
       "      <td>143.30</td>\n",
       "      <td>142.80</td>\n",
       "      <td>143.10</td>\n",
       "      <td>1258.0</td>\n",
       "      <td>143.00</td>\n",
       "      <td>143.30</td>\n",
       "      <td>142.80</td>\n",
       "      <td>143.10</td>\n",
       "      <td>1258.0</td>\n",
       "    </tr>\n",
       "    <tr>\n",
       "      <th>2</th>\n",
       "      <td>2017-12-27</td>\n",
       "      <td>False</td>\n",
       "      <td>daily</td>\n",
       "      <td>142.90</td>\n",
       "      <td>142.90</td>\n",
       "      <td>142.90</td>\n",
       "      <td>142.90</td>\n",
       "      <td>77.0</td>\n",
       "      <td>142.90</td>\n",
       "      <td>142.90</td>\n",
       "      <td>142.90</td>\n",
       "      <td>142.90</td>\n",
       "      <td>77.0</td>\n",
       "    </tr>\n",
       "    <tr>\n",
       "      <th>3</th>\n",
       "      <td>2017-12-22</td>\n",
       "      <td>False</td>\n",
       "      <td>daily</td>\n",
       "      <td>147.70</td>\n",
       "      <td>147.70</td>\n",
       "      <td>147.40</td>\n",
       "      <td>147.40</td>\n",
       "      <td>396.0</td>\n",
       "      <td>147.70</td>\n",
       "      <td>147.70</td>\n",
       "      <td>147.40</td>\n",
       "      <td>147.40</td>\n",
       "      <td>396.0</td>\n",
       "    </tr>\n",
       "    <tr>\n",
       "      <th>4</th>\n",
       "      <td>2017-12-20</td>\n",
       "      <td>False</td>\n",
       "      <td>daily</td>\n",
       "      <td>147.85</td>\n",
       "      <td>148.05</td>\n",
       "      <td>146.45</td>\n",
       "      <td>146.45</td>\n",
       "      <td>701.0</td>\n",
       "      <td>147.85</td>\n",
       "      <td>148.05</td>\n",
       "      <td>146.45</td>\n",
       "      <td>146.45</td>\n",
       "      <td>701.0</td>\n",
       "    </tr>\n",
       "  </tbody>\n",
       "</table>\n",
       "</div>"
      ],
      "text/plain": [
       "         date  intraperiod frequency    open    high     low   close  volume  \\\n",
       "0  2017-12-29        False     daily  143.00  143.00  142.70  142.70   290.0   \n",
       "1  2017-12-28        False     daily  143.00  143.30  142.80  143.10  1258.0   \n",
       "2  2017-12-27        False     daily  142.90  142.90  142.90  142.90    77.0   \n",
       "3  2017-12-22        False     daily  147.70  147.70  147.40  147.40   396.0   \n",
       "4  2017-12-20        False     daily  147.85  148.05  146.45  146.45   701.0   \n",
       "\n",
       "   adj_open  adj_high  adj_low  adj_close  adj_volume  \n",
       "0    143.00    143.00   142.70     142.70       290.0  \n",
       "1    143.00    143.30   142.80     143.10      1258.0  \n",
       "2    142.90    142.90   142.90     142.90        77.0  \n",
       "3    147.70    147.70   147.40     147.40       396.0  \n",
       "4    147.85    148.05   146.45     146.45       701.0  "
      ]
     },
     "execution_count": 4,
     "metadata": {},
     "output_type": "execute_result"
    }
   ],
   "source": [
    "df.head()"
   ]
  },
  {
   "cell_type": "code",
   "execution_count": 5,
   "metadata": {},
   "outputs": [],
   "source": [
    "price_diff = df[[\"date\", \"open\"]].sort_values(by='date')\n",
    "price_diff = price_diff.reset_index()\n",
    "price_diff.drop(columns=[\"index\"], inplace=True)"
   ]
  },
  {
   "cell_type": "code",
   "execution_count": 6,
   "metadata": {},
   "outputs": [],
   "source": [
    "price_diff.loc[:,'prev_open'] = price_diff.loc[:,\"open\"].shift()\n",
    "price_diff.loc[:,'diff'] = price_diff['open'] - price_diff['prev_open']"
   ]
  },
  {
   "cell_type": "code",
   "execution_count": 7,
   "metadata": {},
   "outputs": [
    {
     "data": {
      "text/html": [
       "<div>\n",
       "<style scoped>\n",
       "    .dataframe tbody tr th:only-of-type {\n",
       "        vertical-align: middle;\n",
       "    }\n",
       "\n",
       "    .dataframe tbody tr th {\n",
       "        vertical-align: top;\n",
       "    }\n",
       "\n",
       "    .dataframe thead th {\n",
       "        text-align: right;\n",
       "    }\n",
       "</style>\n",
       "<table border=\"1\" class=\"dataframe\">\n",
       "  <thead>\n",
       "    <tr style=\"text-align: right;\">\n",
       "      <th></th>\n",
       "      <th>date</th>\n",
       "      <th>open</th>\n",
       "      <th>prev_open</th>\n",
       "      <th>diff</th>\n",
       "    </tr>\n",
       "  </thead>\n",
       "  <tbody>\n",
       "    <tr>\n",
       "      <th>0</th>\n",
       "      <td>2017-05-23</td>\n",
       "      <td>137.03</td>\n",
       "      <td>NaN</td>\n",
       "      <td>NaN</td>\n",
       "    </tr>\n",
       "    <tr>\n",
       "      <th>1</th>\n",
       "      <td>2017-05-24</td>\n",
       "      <td>137.80</td>\n",
       "      <td>137.03</td>\n",
       "      <td>0.77</td>\n",
       "    </tr>\n",
       "    <tr>\n",
       "      <th>2</th>\n",
       "      <td>2017-05-29</td>\n",
       "      <td>137.68</td>\n",
       "      <td>137.80</td>\n",
       "      <td>-0.12</td>\n",
       "    </tr>\n",
       "    <tr>\n",
       "      <th>3</th>\n",
       "      <td>2017-05-30</td>\n",
       "      <td>138.40</td>\n",
       "      <td>137.68</td>\n",
       "      <td>0.72</td>\n",
       "    </tr>\n",
       "    <tr>\n",
       "      <th>4</th>\n",
       "      <td>2017-05-31</td>\n",
       "      <td>137.45</td>\n",
       "      <td>138.40</td>\n",
       "      <td>-0.95</td>\n",
       "    </tr>\n",
       "  </tbody>\n",
       "</table>\n",
       "</div>"
      ],
      "text/plain": [
       "         date    open  prev_open  diff\n",
       "0  2017-05-23  137.03        NaN   NaN\n",
       "1  2017-05-24  137.80     137.03  0.77\n",
       "2  2017-05-29  137.68     137.80 -0.12\n",
       "3  2017-05-30  138.40     137.68  0.72\n",
       "4  2017-05-31  137.45     138.40 -0.95"
      ]
     },
     "execution_count": 7,
     "metadata": {},
     "output_type": "execute_result"
    }
   ],
   "source": [
    "price_diff.head()"
   ]
  },
  {
   "cell_type": "code",
   "execution_count": 24,
   "metadata": {},
   "outputs": [],
   "source": [
    "def animate_moving_distribtuion(i):\n",
    "    plt.clf()\n",
    "    data = price_diff.loc[i-49:i, 'diff']\n",
    "    return sns.distplot(data)\n",
    "\n",
    "def price_diff_frames():\n",
    "    for i in range(50,price_diff.shape[0]+1):\n",
    "        yield i"
   ]
  },
  {
   "cell_type": "code",
   "execution_count": 26,
   "metadata": {},
   "outputs": [
    {
     "data": {
      "image/png": "[encoded data removed]",
      "text/plain": [
       "<Figure size 432x288 with 1 Axes>"
      ]
     },
     "metadata": {
      "needs_background": "light"
     },
     "output_type": "display_data"
    }
   ],
   "source": [
    "fig, ax = plt.subplots()\n",
    "ani = animation.FuncAnimation(fig, animate_moving_distribtuion, frames=price_diff_frames, interval=500)\n",
    "ani.save(\"test.html\",writer='html')\n",
    "#plt.show()"
   ]
  },
  {
   "cell_type": "code",
   "execution_count": 44,
   "metadata": {},
   "outputs": [
    {
     "data": {
      "text/plain": [
       "<matplotlib.axes._subplots.AxesSubplot at 0x2079159c760>"
      ]
     },
     "execution_count": 44,
     "metadata": {},
     "output_type": "execute_result"
    },
    {
     "data": {
      "image/png": "[encoded data removed]",
      "text/plain": [
       "<Figure size 432x288 with 1 Axes>"
      ]
     },
     "metadata": {},
     "output_type": "display_data"
    }
   ],
   "source": [
    "sns.distplot(price_diff.loc[151:200,'diff'])"
   ]
  },
  {
   "cell_type": "code",
   "execution_count": 48,
   "metadata": {},
   "outputs": [],
   "source": [
    "price_diff2 = df2.loc[df2[\"date\"] >= '2017-12-29', [\"date\", \"open\"]].sort_values(by='date')"
   ]
  },
  {
   "cell_type": "code",
   "execution_count": 49,
   "metadata": {},
   "outputs": [],
   "source": [
    "price_diff2.loc[:,'prev_open'] = price_diff2.loc[:,\"open\"].shift()\n",
    "price_diff2.loc[:,'diff'] = price_diff2['open'] - price_diff2['prev_open']"
   ]
  },
  {
   "cell_type": "code",
   "execution_count": 14,
   "metadata": {},
   "outputs": [
    {
     "ename": "NameError",
     "evalue": "name 'price_diff2' is not defined",
     "output_type": "error",
     "traceback": [
      "\u001b[1;31m---------------------------------------------------------------------------\u001b[0m",
      "\u001b[1;31mNameError\u001b[0m                                 Traceback (most recent call last)",
      "\u001b[1;32m<ipython-input-14-959183b67ee2>\u001b[0m in \u001b[0;36m<module>\u001b[1;34m\u001b[0m\n\u001b[1;32m----> 1\u001b[1;33m \u001b[0msns\u001b[0m\u001b[1;33m.\u001b[0m\u001b[0mlineplot\u001b[0m\u001b[1;33m(\u001b[0m\u001b[0mx\u001b[0m\u001b[1;33m=\u001b[0m\u001b[1;34m'date'\u001b[0m\u001b[1;33m,\u001b[0m\u001b[0my\u001b[0m\u001b[1;33m=\u001b[0m\u001b[1;34m'diff'\u001b[0m\u001b[1;33m,\u001b[0m \u001b[0mdata\u001b[0m\u001b[1;33m=\u001b[0m\u001b[0mprice_diff2\u001b[0m\u001b[1;33m)\u001b[0m\u001b[1;33m\u001b[0m\u001b[1;33m\u001b[0m\u001b[0m\n\u001b[0m",
      "\u001b[1;31mNameError\u001b[0m: name 'price_diff2' is not defined"
     ]
    }
   ],
   "source": [
    "sns.lineplot(x='date',y='diff', data=price_diff2)"
   ]
  },
  {
   "cell_type": "code",
   "execution_count": null,
   "metadata": {},
   "outputs": [],
   "source": []
  }
 ],
 "metadata": {
  "kernelspec": {
   "display_name": "Python 3",
   "language": "python",
   "name": "python3"
  },
  "language_info": {
   "codemirror_mode": {
    "name": "ipython",
    "version": 3
   },
   "file_extension": ".py",
   "mimetype": "text/x-python",
   "name": "python",
   "nbconvert_exporter": "python",
   "pygments_lexer": "ipython3",
   "version": "3.8.3"
  }
 },
 "nbformat": 4,
 "nbformat_minor": 4
}
